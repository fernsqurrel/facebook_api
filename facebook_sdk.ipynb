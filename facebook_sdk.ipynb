{
 "cells": [
  {
   "cell_type": "code",
   "execution_count": 8,
   "metadata": {},
   "outputs": [],
   "source": [
    "from collections import defaultdict"
   ]
  },
  {
   "cell_type": "code",
   "execution_count": 9,
   "metadata": {},
   "outputs": [],
   "source": [
    "import requests"
   ]
  },
  {
   "cell_type": "code",
   "execution_count": 10,
   "metadata": {},
   "outputs": [],
   "source": [
    "# This is my personal library\n",
    "import facebook_helpers"
   ]
  },
  {
   "cell_type": "code",
   "execution_count": 11,
   "metadata": {},
   "outputs": [
    {
     "name": "stdout",
     "output_type": "stream",
     "text": [
      "Error loading using user token - using saved page token\n"
     ]
    }
   ],
   "source": [
    "user_token = facebook_helpers.find_user_token()\n",
    "user_id = facebook_helpers.find_user_id()\n",
    "page_id = facebook_helpers.find_page_id()\n",
    "page_token = facebook_helpers.find_page_token()"
   ]
  },
  {
   "cell_type": "markdown",
   "metadata": {},
   "source": [
    "# Goal for today\n",
    "21-05-20\n",
    "\n",
    "* Get multiple rows into our spreadsheet"
   ]
  },
  {
   "cell_type": "code",
   "execution_count": 12,
   "metadata": {},
   "outputs": [],
   "source": [
    "page_metrics = \"page_total_actions,page_cta_clicks_logged_in_total,page_cta_clicks_logged_in_unique,page_cta_clicks_by_site_logged_in_unique,page_cta_clicks_by_age_gender_logged_in_unique,page_cta_clicks_logged_in_by_country_unique,page_cta_clicks_logged_in_by_city_unique,page_call_phone_clicks_logged_in_unique,page_call_phone_clicks_by_age_gender_logged_in_unique,page_call_phone_clicks_logged_in_by_country_unique,page_call_phone_clicks_logged_in_by_city_unique,page_call_phone_clicks_by_site_logged_in_unique,page_get_directions_clicks_logged_in_unique,page_get_directions_clicks_by_age_gender_logged_in_unique,page_get_directions_clicks_logged_in_by_country_unique,page_get_directions_clicks_logged_in_by_city_unique,page_get_directions_clicks_by_site_logged_in_unique,page_website_clicks_logged_in_unique,page_website_clicks_by_age_gender_logged_in_unique,page_website_clicks_logged_in_by_country_unique,page_website_clicks_logged_in_by_city_unique,page_website_clicks_by_site_logged_in_unique,page_engaged_users,page_post_engagements,page_consumptions,page_consumptions_unique,page_consumptions_by_consumption_type,page_consumptions_by_consumption_type_unique,page_places_checkin_total,page_places_checkin_total_unique,page_places_checkin_mobile,page_places_checkin_mobile_unique,page_places_checkins_by_age_gender,page_places_checkins_by_locale,page_places_checkins_by_country,page_negative_feedback,page_negative_feedback_unique,page_negative_feedback_by_type,page_negative_feedback_by_type_unique,page_positive_feedback_by_type,page_positive_feedback_by_type_unique,page_fans_online,page_fans_online_per_day,page_fan_adds_by_paid_non_paid_unique,page_impressions,page_impressions_unique,page_impressions_paid,page_impressions_paid_unique,page_impressions_organic,page_impressions_organic_unique,page_impressions_viral,page_impressions_viral_unique,page_impressions_nonviral,page_impressions_nonviral_unique,page_impressions_by_story_type,page_impressions_by_story_type_unique,page_impressions_by_city_unique,page_impressions_by_country_unique,page_impressions_by_locale_unique,page_impressions_by_age_gender_unique,page_impressions_frequency_distribution,page_impressions_viral_frequency_distribution\".split(\",\")   "
   ]
  },
  {
   "cell_type": "code",
   "execution_count": null,
   "metadata": {},
   "outputs": [],
   "source": [
    "res = facebook_helpers.request_metrics(page_metrics)\n",
    "data = res['data']\n",
    "previous = res['paging']['previous']"
   ]
  },
  {
   "cell_type": "code",
   "execution_count": null,
   "metadata": {},
   "outputs": [],
   "source": [
    "res"
   ]
  },
  {
   "cell_type": "code",
   "execution_count": null,
   "metadata": {},
   "outputs": [],
   "source": [
    "d = data_to_dict(data)"
   ]
  },
  {
   "cell_type": "code",
   "execution_count": null,
   "metadata": {},
   "outputs": [],
   "source": [
    "for i in range(10):\n",
    "    res = requests.get(previous)\n",
    "    res.raise_for_status()\n",
    "    new_data = data_to_dict(res.json()['data'])\n",
    "    d = {**d, **new_data}"
   ]
  },
  {
   "cell_type": "code",
   "execution_count": null,
   "metadata": {},
   "outputs": [],
   "source": [
    "d.keys()"
   ]
  },
  {
   "cell_type": "code",
   "execution_count": null,
   "metadata": {},
   "outputs": [],
   "source": [
    "d"
   ]
  },
  {
   "cell_type": "code",
   "execution_count": null,
   "metadata": {},
   "outputs": [],
   "source": [
    "json_to_dict(r.json())"
   ]
  },
  {
   "cell_type": "code",
   "execution_count": null,
   "metadata": {},
   "outputs": [],
   "source": [
    "def data_to_dict(d):\n",
    "    '''This should take in the DATA from a request (this can be done with res.json()['data'])\n",
    "    And it will output a defaultdict of defaultdicts with the structure \n",
    "    date --> metric --> value\n",
    "    '''\n",
    "    output_d = defaultdict(defaultdict)\n",
    "    \n",
    "    # This is how the output_d will be structured when it's returned\n",
    "    # output_d['date']['metric'] = value\n",
    "    \n",
    "    # Iterating through each metric that we're given\n",
    "    for ele in d:\n",
    "        variable_name = ele['name']\n",
    "        \n",
    "        # Iterating through each value for a specific metric\n",
    "        for values in ele['values']:\n",
    "            # There should be a list of values, each for a different date\n",
    "            # Structure of this is a list of dicts\n",
    "            # We should turn metric -> date -> value into date -> metric -> value\n",
    "            \n",
    "            # We wrap this in a try because some metrics don't come as integers (they could be a list or a dict)\n",
    "            try:\n",
    "                if isinstance(values['value'], int) == True:\n",
    "                    date = values['end_time']\n",
    "                    value = values['value']\n",
    "                    metric_name = variable_name\n",
    "                    \n",
    "                    output_d[date][metric_name] = value\n",
    "            except Exception:\n",
    "                continue\n",
    "    \n",
    "    return output_d"
   ]
  },
  {
   "cell_type": "code",
   "execution_count": null,
   "metadata": {},
   "outputs": [],
   "source": [
    "json_to_dict(res)"
   ]
  },
  {
   "cell_type": "code",
   "execution_count": null,
   "metadata": {},
   "outputs": [],
   "source": [
    "res['data'][0]['values']"
   ]
  },
  {
   "cell_type": "code",
   "execution_count": null,
   "metadata": {},
   "outputs": [],
   "source": [
    "res['data'][0]['values']"
   ]
  },
  {
   "cell_type": "code",
   "execution_count": null,
   "metadata": {},
   "outputs": [],
   "source": [
    "final_dict = {}\n",
    "\n",
    "final_dict['date'] = json_to_dict(res)"
   ]
  },
  {
   "cell_type": "code",
   "execution_count": 43,
   "metadata": {},
   "outputs": [
    {
     "data": {
      "text/plain": [
       "dict_keys(['data', 'paging'])"
      ]
     },
     "execution_count": 43,
     "metadata": {},
     "output_type": "execute_result"
    }
   ],
   "source": [
    "res.keys()"
   ]
  },
  {
   "cell_type": "code",
   "execution_count": 27,
   "metadata": {},
   "outputs": [
    {
     "data": {
      "text/plain": [
       "{}"
      ]
     },
     "execution_count": 27,
     "metadata": {},
     "output_type": "execute_result"
    }
   ],
   "source": [
    "output_d"
   ]
  },
  {
   "cell_type": "markdown",
   "metadata": {},
   "source": [
    "# Goal for today\n",
    "\n",
    "* Create request that gets all post-scoped metrics\n",
    "\n",
    "Expected challenge:\n",
    "* Understanding how to traverse IDs of posts - is it a linked list? An array? A graph?"
   ]
  },
  {
   "cell_type": "code",
   "execution_count": 8,
   "metadata": {},
   "outputs": [],
   "source": [
    "d = facebook_helpers.request_metrics(['post_engaged_users'])"
   ]
  },
  {
   "cell_type": "code",
   "execution_count": 9,
   "metadata": {},
   "outputs": [
    {
     "data": {
      "text/plain": [
       "{}"
      ]
     },
     "execution_count": 9,
     "metadata": {},
     "output_type": "execute_result"
    }
   ],
   "source": [
    "d"
   ]
  },
  {
   "cell_type": "code",
   "execution_count": 10,
   "metadata": {},
   "outputs": [],
   "source": [
    "list_of_metrics = ['post_engaged_users']"
   ]
  },
  {
   "cell_type": "code",
   "execution_count": 11,
   "metadata": {},
   "outputs": [],
   "source": [
    "import requests"
   ]
  },
  {
   "cell_type": "code",
   "execution_count": 12,
   "metadata": {},
   "outputs": [],
   "source": [
    "base_url = 'https://graph.facebook.com'\n",
    "\n",
    "object_id = page_id\n",
    "metric_string = \",\".join(list_of_metrics)\n",
    "add_on_url = f\"/v10.0/{object_id}/insights/{metric_string}\"\n",
    "\n",
    "url = base_url + add_on_url\n",
    "\n",
    "params = {\n",
    "    \"access_token\": page_token,\n",
    "    \"show_description_from_api_doc\" : \"true\",\n",
    "    \"period\" : \"days_28\"\n",
    "}\n",
    "\n",
    "res = requests.get(url, params = params)\n",
    "\n",
    "d = dict(res.json())"
   ]
  },
  {
   "cell_type": "code",
   "execution_count": 13,
   "metadata": {},
   "outputs": [
    {
     "data": {
      "text/plain": [
       "{'data': [],\n",
       " 'paging': {'previous': 'https://graph.facebook.com/v10.0/255619927849282/insights?access_token=EAAQM8GjHvQQBAHkbyZBaIN41Hwe5tO9wXjabZAGrOZCmF94YTqw7o2lXVIs3JFzhjEXDrGyKzLM0VTlpagmY9eVgEwlkD4jvztruRe1XA2SlIkdjHZB3uqKsTGb9x3oFtlxQDfLHf15CjFbsb5JYHRsKzzHULTvFHkcCANVZBWT7fh4pyjmAY&metric=post_engaged_users&period=days_28&show_description_from_api_doc=true&since=1620889200&until=1621062000',\n",
       "  'next': 'https://graph.facebook.com/v10.0/255619927849282/insights?access_token=EAAQM8GjHvQQBAHkbyZBaIN41Hwe5tO9wXjabZAGrOZCmF94YTqw7o2lXVIs3JFzhjEXDrGyKzLM0VTlpagmY9eVgEwlkD4jvztruRe1XA2SlIkdjHZB3uqKsTGb9x3oFtlxQDfLHf15CjFbsb5JYHRsKzzHULTvFHkcCANVZBWT7fh4pyjmAY&metric=post_engaged_users&period=days_28&show_description_from_api_doc=true&since=1621234800&until=1621407600'}}"
      ]
     },
     "execution_count": 13,
     "metadata": {},
     "output_type": "execute_result"
    }
   ],
   "source": [
    "d"
   ]
  },
  {
   "cell_type": "markdown",
   "metadata": {},
   "source": [
    " # Getting Public Page Data\n",
    " https://developers.facebook.com/docs/graph-api/reference/page/"
   ]
  },
  {
   "cell_type": "code",
   "execution_count": 33,
   "metadata": {},
   "outputs": [],
   "source": [
    "base_url = 'https://graph.facebook.com'"
   ]
  },
  {
   "cell_type": "code",
   "execution_count": 34,
   "metadata": {},
   "outputs": [],
   "source": [
    "add_on_url = f\"/v10.0/{page_id}/published_posts\""
   ]
  },
  {
   "cell_type": "code",
   "execution_count": 35,
   "metadata": {},
   "outputs": [],
   "source": [
    "url = base_url + add_on_url"
   ]
  },
  {
   "cell_type": "code",
   "execution_count": 36,
   "metadata": {},
   "outputs": [
    {
     "data": {
      "text/plain": [
       "'https://graph.facebook.com/v10.0/255619927849282/published_posts'"
      ]
     },
     "execution_count": 36,
     "metadata": {},
     "output_type": "execute_result"
    }
   ],
   "source": [
    "url"
   ]
  },
  {
   "cell_type": "code",
   "execution_count": 37,
   "metadata": {},
   "outputs": [],
   "source": [
    "params = {\n",
    "    \"access_token\": page_token\n",
    "}"
   ]
  },
  {
   "cell_type": "code",
   "execution_count": 38,
   "metadata": {},
   "outputs": [],
   "source": [
    "res = requests.get(url, params = params)"
   ]
  },
  {
   "cell_type": "code",
   "execution_count": 46,
   "metadata": {},
   "outputs": [],
   "source": []
  },
  {
   "cell_type": "code",
   "execution_count": 56,
   "metadata": {},
   "outputs": [],
   "source": [
    "post_ids = [ele['id'] for ele in d['data']]"
   ]
  },
  {
   "cell_type": "code",
   "execution_count": 141,
   "metadata": {},
   "outputs": [
    {
     "data": {
      "text/plain": [
       "'255619927849282_3725463860864854'"
      ]
     },
     "execution_count": 141,
     "metadata": {},
     "output_type": "execute_result"
    }
   ],
   "source": [
    "post_ids[-1]"
   ]
  },
  {
   "cell_type": "markdown",
   "metadata": {},
   "source": [
    "Make requests for post IDs"
   ]
  },
  {
   "cell_type": "code",
   "execution_count": 64,
   "metadata": {
    "collapsed": true
   },
   "outputs": [
    {
     "data": {
      "text/plain": [
       "['page_posts_impressions*',\n",
       " 'page_posts_impressions_unique*',\n",
       " 'page_posts_impressions_paid*',\n",
       " 'page_posts_impressions_paid_unique*',\n",
       " 'page_posts_impressions_organic*',\n",
       " 'page_posts_impressions_organic_unique*',\n",
       " 'page_posts_served_impressions_organic_unique',\n",
       " 'page_posts_impressions_viral*',\n",
       " 'page_posts_impressions_viral_unique*',\n",
       " 'page_posts_impressions_nonviral*',\n",
       " 'page_posts_impressions_nonviral_unique*',\n",
       " 'page_posts_impressions_frequency_distribution',\n",
       " 'post_engaged_users*',\n",
       " 'post_negative_feedback*',\n",
       " 'post_negative_feedback_unique*',\n",
       " 'post_negative_feedback_by_type*',\n",
       " 'post_negative_feedback_by_type_unique*',\n",
       " 'post_engaged_fan',\n",
       " 'post_clicks*',\n",
       " 'post_clicks_unique*',\n",
       " 'post_clicks_by_type*',\n",
       " 'post_clicks_by_type_unique*']"
      ]
     },
     "execution_count": 64,
     "metadata": {},
     "output_type": "execute_result"
    }
   ],
   "source": [
    "post_metrics"
   ]
  },
  {
   "cell_type": "code",
   "execution_count": 15,
   "metadata": {},
   "outputs": [],
   "source": [
    "import pandas as pd"
   ]
  },
  {
   "cell_type": "code",
   "execution_count": 66,
   "metadata": {},
   "outputs": [],
   "source": [
    "post_metrics = [ele.rstrip(\"*\") for ele in post_metrics]"
   ]
  },
  {
   "cell_type": "code",
   "execution_count": 67,
   "metadata": {},
   "outputs": [
    {
     "data": {
      "text/plain": [
       "['page_posts_impressions',\n",
       " 'page_posts_impressions_unique',\n",
       " 'page_posts_impressions_paid',\n",
       " 'page_posts_impressions_paid_unique',\n",
       " 'page_posts_impressions_organic',\n",
       " 'page_posts_impressions_organic_unique',\n",
       " 'page_posts_served_impressions_organic_unique',\n",
       " 'page_posts_impressions_viral',\n",
       " 'page_posts_impressions_viral_unique',\n",
       " 'page_posts_impressions_nonviral',\n",
       " 'page_posts_impressions_nonviral_unique',\n",
       " 'page_posts_impressions_frequency_distribution',\n",
       " 'post_engaged_users',\n",
       " 'post_negative_feedback',\n",
       " 'post_negative_feedback_unique',\n",
       " 'post_negative_feedback_by_type',\n",
       " 'post_negative_feedback_by_type_unique',\n",
       " 'post_engaged_fan',\n",
       " 'post_clicks',\n",
       " 'post_clicks_unique',\n",
       " 'post_clicks_by_type',\n",
       " 'post_clicks_by_type_unique']"
      ]
     },
     "execution_count": 67,
     "metadata": {},
     "output_type": "execute_result"
    }
   ],
   "source": [
    "post_metrics"
   ]
  },
  {
   "cell_type": "markdown",
   "metadata": {},
   "source": [
    "# Making a request for a post"
   ]
  },
  {
   "cell_type": "code",
   "execution_count": 70,
   "metadata": {
    "collapsed": true
   },
   "outputs": [
    {
     "data": {
      "text/plain": [
       "['255619927849282_3844532972291275',\n",
       " '255619927849282_3798871470190759',\n",
       " '255619927849282_3795940937150479',\n",
       " '255619927849282_3793308770747029',\n",
       " '255619927849282_3787864297958143',\n",
       " '255619927849282_3783880275023212',\n",
       " '255619927849282_3781964961881410',\n",
       " '255619927849282_3779430348801538',\n",
       " '255619927849282_3773622049382368',\n",
       " '255619927849282_3756800551064518',\n",
       " '255619927849282_3756078474470059',\n",
       " '255619927849282_3755509301193643',\n",
       " '255619927849282_3753259598085280',\n",
       " '255619927849282_3749274641817109',\n",
       " '255619927849282_3748581515219755',\n",
       " '255619927849282_3742548415823065',\n",
       " '255619927849282_3741778505900056',\n",
       " '255619927849282_3738872709523969',\n",
       " '255619927849282_1550524068358855',\n",
       " '255619927849282_3731711266906780',\n",
       " '255619927849282_3728966913847882',\n",
       " '255619927849282_1355498914818445',\n",
       " '255619927849282_3725738067504100',\n",
       " '255619927849282_3725471094197464',\n",
       " '255619927849282_3725463860864854']"
      ]
     },
     "execution_count": 70,
     "metadata": {},
     "output_type": "execute_result"
    }
   ],
   "source": [
    "post_ids"
   ]
  },
  {
   "cell_type": "code",
   "execution_count": 142,
   "metadata": {},
   "outputs": [],
   "source": [
    "post_id = post_ids[-1]"
   ]
  },
  {
   "cell_type": "code",
   "execution_count": 143,
   "metadata": {},
   "outputs": [],
   "source": [
    "base_url = \"https://graph.facebook.com\""
   ]
  },
  {
   "cell_type": "code",
   "execution_count": 144,
   "metadata": {},
   "outputs": [],
   "source": [
    "object_id = post_id"
   ]
  },
  {
   "cell_type": "code",
   "execution_count": 145,
   "metadata": {},
   "outputs": [],
   "source": [
    "metric_string = \",\".join(post_metrics)"
   ]
  },
  {
   "cell_type": "code",
   "execution_count": 173,
   "metadata": {},
   "outputs": [],
   "source": [
    "add_on_url = f\"/v10.0/{object_id}/insights/post_story_adds_unique\""
   ]
  },
  {
   "cell_type": "code",
   "execution_count": 174,
   "metadata": {},
   "outputs": [],
   "source": [
    "url = base_url + add_on_url"
   ]
  },
  {
   "cell_type": "code",
   "execution_count": 176,
   "metadata": {},
   "outputs": [
    {
     "data": {
      "text/plain": [
       "'https://graph.facebook.com/v10.0/255619927849282/insights/post_story_adds_unique'"
      ]
     },
     "execution_count": 176,
     "metadata": {},
     "output_type": "execute_result"
    }
   ],
   "source": [
    "url"
   ]
  },
  {
   "cell_type": "code",
   "execution_count": 182,
   "metadata": {},
   "outputs": [],
   "source": [
    "params = {\n",
    "    \"access_token\": \"EAAQM8GjHvQQBAOE3aihZAMLFTniUBu4pDZCqFrNc6uBUZC0t2IOcGzllchXiZAoMsGjUORMilNZBsLsgr90WXaIoGN6HtW2zWZCJYdafnSHT1PSia0LH4Kjb28UexjWizGnSZBr1DmBQ8LzePao0NHWg7hMvY73iXPWpkafKmm6QRwZCJheFEUVW\",\n",
    "    \"period\": \"day\",\n",
    "    # \"show_description_from_api_doc\": \"true\",\n",
    "}"
   ]
  },
  {
   "cell_type": "code",
   "execution_count": 178,
   "metadata": {},
   "outputs": [
    {
     "data": {
      "text/plain": [
       "'EAAQM8GjHvQQBAKpQ63HfvqykvJgVIzwy6PyEbZBnBFvY20MwZAmdd52mHhUJ7X9rFMZCJE5WtZAQZA8VfevPuhcd3cjWpm0eZCzF6F2fQl2eMZAxZBZAu4aNl85rxNcVZBxZCMXoVw2ahTa3ZAiZCAMJBTQBv62ooPhm0oc4ZCjfHT9giXBIvnQlmB07Pi'"
      ]
     },
     "execution_count": 178,
     "metadata": {},
     "output_type": "execute_result"
    }
   ],
   "source": [
    "page_token"
   ]
  },
  {
   "cell_type": "code",
   "execution_count": 183,
   "metadata": {},
   "outputs": [],
   "source": [
    "res = requests.get(url, params = params)"
   ]
  },
  {
   "cell_type": "code",
   "execution_count": 184,
   "metadata": {},
   "outputs": [
    {
     "data": {
      "text/plain": [
       "{'data': [],\n",
       " 'paging': {'previous': 'https://graph.facebook.com/v10.0/255619927849282/insights?access_token=EAAQM8GjHvQQBAOE3aihZAMLFTniUBu4pDZCqFrNc6uBUZC0t2IOcGzllchXiZAoMsGjUORMilNZBsLsgr90WXaIoGN6HtW2zWZCJYdafnSHT1PSia0LH4Kjb28UexjWizGnSZBr1DmBQ8LzePao0NHWg7hMvY73iXPWpkafKmm6QRwZCJheFEUVW&metric=post_story_adds_unique&period=day&since=1620370800&until=1620543600',\n",
       "  'next': 'https://graph.facebook.com/v10.0/255619927849282/insights?access_token=EAAQM8GjHvQQBAOE3aihZAMLFTniUBu4pDZCqFrNc6uBUZC0t2IOcGzllchXiZAoMsGjUORMilNZBsLsgr90WXaIoGN6HtW2zWZCJYdafnSHT1PSia0LH4Kjb28UexjWizGnSZBr1DmBQ8LzePao0NHWg7hMvY73iXPWpkafKmm6QRwZCJheFEUVW&metric=post_story_adds_unique&period=day&since=1620716400&until=1620889200'}}"
      ]
     },
     "execution_count": 184,
     "metadata": {},
     "output_type": "execute_result"
    }
   ],
   "source": [
    "res.json()"
   ]
  }
 ],
 "metadata": {
  "kernelspec": {
   "display_name": "Python 3",
   "language": "python",
   "name": "python3"
  },
  "language_info": {
   "codemirror_mode": {
    "name": "ipython",
    "version": 3
   },
   "file_extension": ".py",
   "mimetype": "text/x-python",
   "name": "python",
   "nbconvert_exporter": "python",
   "pygments_lexer": "ipython3",
   "version": "3.8.6"
  }
 },
 "nbformat": 4,
 "nbformat_minor": 5
}
